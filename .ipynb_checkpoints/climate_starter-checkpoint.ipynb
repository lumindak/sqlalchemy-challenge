{
 "cells": [
  {
   "cell_type": "code",
   "execution_count": 17,
   "metadata": {},
   "outputs": [],
   "source": [
    "%matplotlib inline\n",
    "from matplotlib import style\n",
    "style.use('fivethirtyeight')\n",
    "import matplotlib.pyplot as plt"
   ]
  },
  {
   "cell_type": "code",
   "execution_count": 16,
   "metadata": {},
   "outputs": [],
   "source": [
    "import numpy as np\n",
    "import pandas as pd"
   ]
  },
  {
   "cell_type": "code",
   "execution_count": 18,
   "metadata": {},
   "outputs": [],
   "source": [
    "import datetime as dt"
   ]
  },
  {
   "cell_type": "markdown",
   "metadata": {},
   "source": [
    "# Reflect Tables into SQLAlchemy ORM"
   ]
  },
  {
   "cell_type": "code",
   "execution_count": 21,
   "metadata": {},
   "outputs": [],
   "source": [
    "# Python SQL toolkit and Object Relational Mapper\n",
    "import sqlalchemy\n",
    "from sqlalchemy.ext.automap import automap_base\n",
    "from sqlalchemy.orm import Session\n",
    "from sqlalchemy import create_engine, func, inspect"
   ]
  },
  {
   "cell_type": "code",
   "execution_count": 24,
   "metadata": {},
   "outputs": [
    {
     "data": {
      "text/plain": [
       "['measurement', 'station']"
      ]
     },
     "execution_count": 24,
     "metadata": {},
     "output_type": "execute_result"
    }
   ],
   "source": [
    "engine = create_engine(\"sqlite:///Resources/hawaii.sqlite\")\n",
    "#inspector = inspect(engine)\n",
    "#columns = inspector.get_columns('hawaii')\n",
    "#for c in columns:\n",
    "#    print(c['name'], c[\"type\"])\n",
    "Base = automap_base()\n",
    "Base.prepare(engine, reflect=True)\n",
    "Hawaii = Base.classes.keys()\n",
    "Hawaii"
   ]
  },
  {
   "cell_type": "code",
   "execution_count": null,
   "metadata": {},
   "outputs": [],
   "source": [
    "# reflect an existing database into a new model\n",
    "\n",
    "# reflect the tables"
   ]
  },
  {
   "cell_type": "code",
   "execution_count": null,
   "metadata": {},
   "outputs": [],
   "source": [
    "# We can view all of the classes that automap found\n"
   ]
  },
  {
   "cell_type": "code",
   "execution_count": 25,
   "metadata": {},
   "outputs": [],
   "source": [
    "# Save references to each table\n",
    "Measurement = Base.classes.measurement\n",
    "Station = Base.classes.station"
   ]
  },
  {
   "cell_type": "code",
   "execution_count": 26,
   "metadata": {},
   "outputs": [],
   "source": [
    "# Create our session (link) from Python to the DB\n",
    "Climate_session = Session(engine)\n",
    "results = Climate_session.query(Measurement.date,Measurement.prcp).all()\n"
   ]
  },
  {
   "cell_type": "markdown",
   "metadata": {},
   "source": [
    "# Exploratory Climate Analysis"
   ]
  },
  {
   "cell_type": "code",
   "execution_count": 30,
   "metadata": {},
   "outputs": [
    {
     "data": {
      "text/plain": [
       "(array([-500.,    0.,  500., 1000., 1500., 2000., 2500.]),\n",
       " <a list of 7 Text xticklabel objects>)"
      ]
     },
     "execution_count": 30,
     "metadata": {},
     "output_type": "execute_result"
    },
    {
     "data": {
      "image/png": "[encoded data removed]",
      "text/plain": [
       "<Figure size 432x288 with 1 Axes>"
      ]
     },
     "metadata": {},
     "output_type": "display_data"
    }
   ],
   "source": [
    "# Design a query to retrieve the last 12 months of precipitation data and plot the results\n",
    "\n",
    "\n",
    "# Calculate the date 1 year ago from the last data point in the database\n",
    "last_date = Climate_session.query(Measurement.date).order_by(Measurement.date.desc()).first()\n",
    "last_date\n",
    "# Perform a query to retrieve the data and precipitation scores\n",
    "last_year_precip = Climate_session.query(Measurement.date, Measurement.prcp).\\\n",
    "              filter(Measurement.date > '2016-08-23').all()\n",
    "last_year_precip\n",
    "\n",
    "# Save the query results as a Pandas DataFrame and set the index to the date column\n",
    "precip_df = pd.DataFrame(last_year_precip, columns=['date', 'precipitation'])\n",
    "precip_df.set_index('date', inplace=True)\n",
    "#dropping rows with Nan\n",
    "cleaned_precip_df=precip_df.dropna(axis=0,how='any')\n",
    "# Sort the dataframe by date\n",
    "cleaned_precip_df.sort_values(by='date')\n",
    "\n",
    "# Use Pandas Plotting with Matplotlib to plot the data\n",
    "cleaned_precip_df.plot()\n",
    "plt.title(\"Precipitation\")\n",
    "plt.ylabel(\"Inches\")\n",
    "plt.xticks(rotation='vertical')"
   ]
  },
  {
   "cell_type": "code",
   "execution_count": 31,
   "metadata": {},
   "outputs": [
    {
     "data": {
      "text/html": [
       "<div>\n",
       "<style scoped>\n",
       "    .dataframe tbody tr th:only-of-type {\n",
       "        vertical-align: middle;\n",
       "    }\n",
       "\n",
       "    .dataframe tbody tr th {\n",
       "        vertical-align: top;\n",
       "    }\n",
       "\n",
       "    .dataframe thead th {\n",
       "        text-align: right;\n",
       "    }\n",
       "</style>\n",
       "<table border=\"1\" class=\"dataframe\">\n",
       "  <thead>\n",
       "    <tr style=\"text-align: right;\">\n",
       "      <th></th>\n",
       "      <th>precipitation</th>\n",
       "    </tr>\n",
       "  </thead>\n",
       "  <tbody>\n",
       "    <tr>\n",
       "      <th>count</th>\n",
       "      <td>2015.000000</td>\n",
       "    </tr>\n",
       "    <tr>\n",
       "      <th>mean</th>\n",
       "      <td>0.176462</td>\n",
       "    </tr>\n",
       "    <tr>\n",
       "      <th>std</th>\n",
       "      <td>0.460288</td>\n",
       "    </tr>\n",
       "    <tr>\n",
       "      <th>min</th>\n",
       "      <td>0.000000</td>\n",
       "    </tr>\n",
       "    <tr>\n",
       "      <th>25%</th>\n",
       "      <td>0.000000</td>\n",
       "    </tr>\n",
       "    <tr>\n",
       "      <th>50%</th>\n",
       "      <td>0.020000</td>\n",
       "    </tr>\n",
       "    <tr>\n",
       "      <th>75%</th>\n",
       "      <td>0.130000</td>\n",
       "    </tr>\n",
       "    <tr>\n",
       "      <th>max</th>\n",
       "      <td>6.700000</td>\n",
       "    </tr>\n",
       "  </tbody>\n",
       "</table>\n",
       "</div>"
      ],
      "text/plain": [
       "       precipitation\n",
       "count    2015.000000\n",
       "mean        0.176462\n",
       "std         0.460288\n",
       "min         0.000000\n",
       "25%         0.000000\n",
       "50%         0.020000\n",
       "75%         0.130000\n",
       "max         6.700000"
      ]
     },
     "execution_count": 31,
     "metadata": {},
     "output_type": "execute_result"
    }
   ],
   "source": [
    "# Use Pandas to calcualte the summary statistics for the precipitation data\n",
    "cleaned_precip_df.describe()"
   ]
  },
  {
   "cell_type": "code",
   "execution_count": 32,
   "metadata": {},
   "outputs": [
    {
     "data": {
      "text/plain": [
       "9"
      ]
     },
     "execution_count": 32,
     "metadata": {},
     "output_type": "execute_result"
    }
   ],
   "source": [
    "# Design a query to show how many stations are available in this dataset?\n",
    "no_stations = Climate_session.query(Station).count()\n",
    "no_stations"
   ]
  },
  {
   "cell_type": "code",
   "execution_count": 33,
   "metadata": {},
   "outputs": [
    {
     "name": "stdout",
     "output_type": "stream",
     "text": [
      "Stations\n",
      "----------------------------------------------------------------------------------------------------\n",
      "[(1, 'USC00519397', 'WAIKIKI 717.2, HI US', 21.2716, -157.8168, 3.0), (2, 'USC00513117', 'KANEOHE 838.1, HI US', 21.4234, -157.8015, 14.6), (3, 'USC00514830', 'KUALOA RANCH HEADQUARTERS 886.9, HI US', 21.5213, -157.8374, 7.0), (4, 'USC00517948', 'PEARL CITY, HI US', 21.3934, -157.9751, 11.9), (5, 'USC00518838', 'UPPER WAHIAWA 874.3, HI US', 21.4992, -158.0111, 306.6), (6, 'USC00519523', 'WAIMANALO EXPERIMENTAL FARM, HI US', 21.33556, -157.71139, 19.5), (7, 'USC00519281', 'WAIHEE 837.5, HI US', 21.45167, -157.84888999999998, 32.9), (8, 'USC00511918', 'HONOLULU OBSERVATORY 702.2, HI US', 21.3152, -157.9992, 0.9), (9, 'USC00516128', 'MANOA LYON ARBO 785.2, HI US', 21.3331, -157.8025, 152.4)]\n",
      "----------------------------------------------------------------------------------------------------\n",
      "Columns in Stations\n",
      "----------------------------------------------------------------------------------------------------\n",
      "id INTEGER\n",
      "station TEXT\n",
      "name TEXT\n",
      "latitude FLOAT\n",
      "longitude FLOAT\n",
      "elevation FLOAT\n",
      "----------------------------------------------------------------------------------------------------\n"
     ]
    }
   ],
   "source": [
    "# What are the most active stations? (i.e. what stations have the most rows)?\n",
    "# List the stations and the counts in descending order.\n",
    "stations = engine.execute('SELECT * FROM Station').fetchall()\n",
    "print('Stations')\n",
    "print('-'*100)\n",
    "print(stations)\n",
    "print('-'*100)\n",
    "\n",
    "inspector = inspect(engine)\n",
    "print(\"Columns in Stations\")\n",
    "print('-'*100)\n",
    "st_columns = inspector.get_columns('Station')\n",
    "for col in st_columns:\n",
    "    print(col['name'], col[\"type\"])\n",
    "print('-'*100)"
   ]
  },
  {
   "cell_type": "code",
   "execution_count": 34,
   "metadata": {},
   "outputs": [
    {
     "name": "stdout",
     "output_type": "stream",
     "text": [
      "Measurements\n",
      "----------------------------------------------------------------------------------------------------\n",
      "[(1, 'USC00519397', '2010-01-01', 0.08, 65.0), (2, 'USC00519397', '2010-01-02', 0.0, 63.0), (3, 'USC00519397', '2010-01-03', 0.0, 74.0), (4, 'USC00519397', '2010-01-04', 0.0, 76.0), (5, 'USC00519397', '2010-01-06', None, 73.0), (6, 'USC00519397', '2010-01-07', 0.06, 70.0), (7, 'USC00519397', '2010-01-08', 0.0, 64.0), (8, 'USC00519397', '2010-01-09', 0.0, 68.0), (9, 'USC00519397', '2010-01-10', 0.0, 73.0), (10, 'USC00519397', '2010-01-11', 0.01, 64.0)]\n",
      "----------------------------------------------------------------------------------------------------\n",
      "Columns in Measurement\n",
      "----------------------------------------------------------------------------------------------------\n",
      "id INTEGER\n",
      "station TEXT\n",
      "date TEXT\n",
      "prcp FLOAT\n",
      "tobs FLOAT\n",
      "----------------------------------------------------------------------------------------------------\n"
     ]
    }
   ],
   "source": [
    "measurements = engine.execute('SELECT * FROM Measurement LIMIT 10').fetchall()\n",
    "print('Measurements')\n",
    "print('-'*100)\n",
    "print(measurements)\n",
    "print('-'*100)\n",
    "print(\"Columns in Measurement\")\n",
    "print('-'*100)\n",
    "meas_columns = inspector.get_columns('Measurement')\n",
    "for col in meas_columns:\n",
    "    print(col['name'], col[\"type\"])\n",
    "print('-'*100)"
   ]
  },
  {
   "cell_type": "code",
   "execution_count": 35,
   "metadata": {},
   "outputs": [
    {
     "name": "stdout",
     "output_type": "stream",
     "text": [
      "----------------------------------------------------------------------------------------------------\n",
      "The most active station is ('USC00519281', 'WAIHEE 837.5, HI US')\n",
      "----------------------------------------------------------------------------------------------------\n",
      "Stattions and counts in the descending order\n"
     ]
    },
    {
     "data": {
      "text/plain": [
       "[(2772, 'USC00519281'),\n",
       " (2724, 'USC00519397'),\n",
       " (2709, 'USC00513117'),\n",
       " (2669, 'USC00519523'),\n",
       " (2612, 'USC00516128'),\n",
       " (2202, 'USC00514830'),\n",
       " (1979, 'USC00511918'),\n",
       " (1372, 'USC00517948'),\n",
       " (511, 'USC00518838')]"
      ]
     },
     "execution_count": 35,
     "metadata": {},
     "output_type": "execute_result"
    }
   ],
   "source": [
    "#session = Session(engine)\n",
    "grouped_by_stations = Climate_session.query(func.count(Measurement.station),Measurement.station).group_by(Measurement.station).\\\n",
    "order_by(func.count(Measurement.station).desc()).\\\n",
    "filter(Measurement.station== Station.station).all()\n",
    "\n",
    "most_active = Climate_session.query(Measurement.station,Station.name).\\\n",
    "group_by(Measurement.station).\\\n",
    "order_by(func.count(Measurement.station).desc()).\\\n",
    "filter(Measurement.station== Station.station).first()\n",
    "                                    \n",
    "#print(grouped_by_stations)\n",
    "#max(grouped_by_stations)[1]\n",
    "print('-'*100)\n",
    "print(f\"The most active station is {most_active}\")\n",
    "print('-'*100)\n",
    "print('Stattions and counts in the descending order')\n",
    "grouped_by_stations\n"
   ]
  },
  {
   "cell_type": "code",
   "execution_count": null,
   "metadata": {},
   "outputs": [],
   "source": []
  },
  {
   "cell_type": "code",
   "execution_count": null,
   "metadata": {},
   "outputs": [],
   "source": []
  },
  {
   "cell_type": "code",
   "execution_count": null,
   "metadata": {},
   "outputs": [],
   "source": []
  },
  {
   "cell_type": "code",
   "execution_count": 36,
   "metadata": {},
   "outputs": [
    {
     "name": "stdout",
     "output_type": "stream",
     "text": [
      "The maximum temperature is (85.0,) Farenheight\n",
      "The minimum temperature is (54.0,) Farenheight\n",
      "The average temperature is (71.66378066378067,) Farenheight\n"
     ]
    }
   ],
   "source": [
    "# Using the station id from the previous query, calculate the lowest temperature recorded, \n",
    "# highest temperature recorded, and average temperature of the most active station?\n",
    "t_max =Climate_session.query(func.max(Measurement.tobs)).filter(Measurement.station=='USC00519281').all()\n",
    "t_min=Climate_session.query(func.min(Measurement.tobs)).filter(Measurement.station=='USC00519281').all()\n",
    "\n",
    "t_avg = Climate_session.query(func.avg(Measurement.tobs)).filter(Measurement.station=='USC00519281').all()\n",
    "print(f'The maximum temperature is {str(t_max[0])} Farenheight')\n",
    "print(f'The minimum temperature is {str(t_min[0])} Farenheight')\n",
    "print(f'The average temperature is {str(t_avg[0])} Farenheight')\n"
   ]
  },
  {
   "cell_type": "code",
   "execution_count": 37,
   "metadata": {},
   "outputs": [
    {
     "name": "stdout",
     "output_type": "stream",
     "text": [
      "--------------------------------------------------------------------------------------------------------------------------------------------------------------------------------------------------------\n",
      "Station with highest no.of temperature observations\n",
      "(2772, 'USC00519281', 'WAIHEE 837.5, HI US')\n"
     ]
    },
    {
     "data": {
      "text/plain": [
       "Text(0.5, 0, 'Temperature(F)')"
      ]
     },
     "execution_count": 37,
     "metadata": {},
     "output_type": "execute_result"
    },
    {
     "data": {
      "image/png": "[encoded data removed]",
      "text/plain": [
       "<Figure size 432x288 with 1 Axes>"
      ]
     },
     "metadata": {},
     "output_type": "display_data"
    }
   ],
   "source": [
    "# Choose the station with the highest number of temperature observations.\n",
    "# Query the last 12 months of temperature observation data for this station and plot the results as a histogram\n",
    "grouped_by_stations1 = Climate_session.query(func.count(Measurement.tobs),Measurement.station,Station.name).group_by(Measurement.station).\\\n",
    "order_by(func.count(Measurement.tobs).desc()).\\\n",
    "filter(Measurement.station== Station.station).first()\n",
    "print('--'*100)\n",
    "print(\"Station with highest no.of temperature observations\")\n",
    "print(grouped_by_stations1)\n",
    "last_year_temp = Climate_session.query(Measurement.date, Measurement.tobs).\\\n",
    "              filter(Measurement.date > '2016-08-23').\\\n",
    "              filter(Measurement.station==grouped_by_stations1[1]).all()\n",
    "last_year_temp\n",
    "temp_df = pd.DataFrame(last_year_temp, columns=['date', 'temp'])\n",
    "temp_df.set_index('date', inplace=True)\n",
    "temp_df.plot(kind='hist',bins=12)\n",
    "plt.xlabel(\"Temperature(F)\")"
   ]
  },
  {
   "cell_type": "markdown",
   "metadata": {},
   "source": [
    "## Bonus Challenge Assignment"
   ]
  },
  {
   "cell_type": "code",
   "execution_count": 40,
   "metadata": {},
   "outputs": [
    {
     "name": "stdout",
     "output_type": "stream",
     "text": [
      "[(62.0, 69.57142857142857, 74.0)]\n"
     ]
    }
   ],
   "source": [
    "# This function called `calc_temps` will accept start date and end date in the format '%Y-%m-%d' \n",
    "# and return the minimum, average, and maximum temperatures for that range of dates\n",
    "def calc_temps(start_date, end_date):\n",
    "    \"\"\"TMIN, TAVG, and TMAX for a list of dates.\n",
    "    \n",
    "    Args:\n",
    "        start_date (string): A date string in the format %Y-%m-%d\n",
    "        end_date (string): A date string in the format %Y-%m-%d\n",
    "        \n",
    "    Returns:\n",
    "        TMIN, TAVE, and TMAX\n",
    "    \"\"\"\n",
    "    \n",
    "    return Climate_session.query(func.min(Measurement.tobs), func.avg(Measurement.tobs), func.max(Measurement.tobs)).\\\n",
    "        filter(Measurement.date >= start_date).filter(Measurement.date <= end_date).all()\n",
    "\n",
    "# function usage example\n",
    "print(calc_temps('2012-02-28', '2012-03-05'))"
   ]
  },
  {
   "cell_type": "code",
   "execution_count": 41,
   "metadata": {},
   "outputs": [
    {
     "name": "stdout",
     "output_type": "stream",
     "text": [
      "[(74.0, 78.39393939393939, 87.0)]\n"
     ]
    }
   ],
   "source": [
    "# Use your previous function `calc_temps` to calculate the tmin, tavg, and tmax \n",
    "# for your trip using the previous year's data for those same dates.\n",
    "print(calc_temps('2017-07-01', '2017-07-06'))"
   ]
  },
  {
   "cell_type": "code",
   "execution_count": 42,
   "metadata": {},
   "outputs": [
    {
     "data": {
      "text/plain": [
       "Text(0, 0.5, 'Temp (F)')"
      ]
     },
     "execution_count": 42,
     "metadata": {},
     "output_type": "execute_result"
    },
    {
     "data": {
      "image/png": "[encoded data removed]",
      "text/plain": [
       "<Figure size 432x288 with 1 Axes>"
      ]
     },
     "metadata": {},
     "output_type": "display_data"
    }
   ],
   "source": [
    "# Plot the results from your previous query as a bar chart. \n",
    "# Use \"Trip Avg Temp\" as your Title\n",
    "# Use the average temperature for the y value\n",
    "# Use the peak-to-peak (tmax-tmin) value as the y error bar (yerr)\n",
    "t_min = calc_temps('2017-07-01', '2017-07-06')[0][0]\n",
    "t_avg = calc_temps('2017-07-01', '2017-07-06')[0][1]\n",
    "t_max = calc_temps('2017-07-01', '2017-07-06')[0][2]\n",
    "plt.bar(x=\"\",height=t_avg,width=0.1,yerr=t_max-t_min)\n",
    "plt.title(\"Trip Avg Temp\")\n",
    "plt.ylabel(\"Temp (F)\")"
   ]
  },
  {
   "cell_type": "code",
   "execution_count": null,
   "metadata": {},
   "outputs": [],
   "source": []
  },
  {
   "cell_type": "code",
   "execution_count": 44,
   "metadata": {},
   "outputs": [
    {
     "data": {
      "text/plain": [
       "[(1.02, 'MANOA LYON ARBO 785.2, HI US', 21.3331, -157.8025, 152.4),\n",
       " (0.46, 'WAIHEE 837.5, HI US', 21.45167, -157.84888999999998, 32.9),\n",
       " (0.27, 'KANEOHE 838.1, HI US', 21.4234, -157.8015, 14.6),\n",
       " (0.12, 'WAIKIKI 717.2, HI US', 21.2716, -157.8168, 3.0),\n",
       " (0.02, 'WAIMANALO EXPERIMENTAL FARM, HI US', 21.33556, -157.71139, 19.5),\n",
       " (None, 'PEARL CITY, HI US', 21.3934, -157.9751, 11.9),\n",
       " (None, 'KUALOA RANCH HEADQUARTERS 886.9, HI US', 21.5213, -157.8374, 7.0)]"
      ]
     },
     "execution_count": 44,
     "metadata": {},
     "output_type": "execute_result"
    }
   ],
   "source": [
    "# Calculate the total amount of rainfall per weather station for your trip dates using the previous year's matching dates.\n",
    "# Sort this in descending order by precipitation amount and list the station, name, latitude, longitude, and elevation\n",
    "\n",
    "Climate_session.query(func.sum(Measurement.prcp),Station.name,Station.latitude,Station.longitude,Station.elevation).\\\n",
    "        group_by(Measurement.station).\\\n",
    "        filter(Measurement.date >= '2017-07-01').filter(Measurement.date <= '2017-07-06').\\\n",
    "        filter(Measurement.station== Station.station).\\\n",
    "        order_by(func.sum(Measurement.prcp).desc()).all()\n"
   ]
  },
  {
   "cell_type": "code",
   "execution_count": 84,
   "metadata": {},
   "outputs": [
    {
     "data": {
      "text/plain": [
       "'[(62.0'"
      ]
     },
     "execution_count": 84,
     "metadata": {},
     "output_type": "execute_result"
    }
   ],
   "source": [
    "# Create a query that will calculate the daily normals \n",
    "# (i.e. the averages for tmin, tmax, and tavg for all historic data matching a specific month and day)\n",
    "\n",
    "def daily_normals(date):\n",
    "    \"\"\"Daily Normals.\n",
    "    \n",
    "    Args:\n",
    "        date (str): A date string in the format '%m-%d'\n",
    "        \n",
    "    Returns:\n",
    "        A list of tuples containing the daily normals, tmin, tavg, and tmax\n",
    "    \n",
    "    \"\"\"\n",
    "    \n",
    "    sel = [func.min(Measurement.tobs), func.avg(Measurement.tobs), func.max(Measurement.tobs)]\n",
    "    return Climate_session.query(*sel).filter(func.strftime(\"%m-%d\", Measurement.date) == date).all()\n",
    "    \n",
    "temp=daily_normals(\"01-01\")"
   ]
  },
  {
   "cell_type": "code",
   "execution_count": 93,
   "metadata": {},
   "outputs": [
    {
     "name": "stdout",
     "output_type": "stream",
     "text": [
      "['2020-07-01', '2020-07-02', '2020-07-03', '2020-07-04', '2020-07-05', '2020-07-06']\n",
      "----------------------------------------------------------------------------------------------------\n"
     ]
    },
    {
     "data": {
      "text/plain": [
       "[[(67.0, 74.77777777777777, 81.0)],\n",
       " [(68.0, 75.40384615384616, 82.0)],\n",
       " [(68.0, 75.32075471698113, 87.0)],\n",
       " [(70.0, 76.57142857142857, 81.0)],\n",
       " [(66.0, 75.0, 81.0)],\n",
       " [(69.0, 75.0, 81.0)]]"
      ]
     },
     "execution_count": 93,
     "metadata": {},
     "output_type": "execute_result"
    }
   ],
   "source": [
    "# calculate the daily normals for your trip\n",
    "# push each tuple of calculations into a list called `normals`\n",
    "\n",
    "# Set the start and end date of the trip\n",
    "start = \"2020-07-01\"\n",
    "end = \"2020-07-06\"\n",
    "\n",
    "# Use the start and end date to create a range of dates\n",
    "#datetime objects\n",
    "dt_start = dt.date(int(start.split('-')[0]), \n",
    "                   int(start.split('-')[1]),\n",
    "                   int(start.split('-')[2]))\n",
    "dt_end = dt.date(int(end.split('-')[0]), \n",
    "                   int(end.split('-')[1]),\n",
    "                   int(end.split('-')[2]))\n",
    "\n",
    "dt_date = dt_start\n",
    "dates =[]\n",
    "while dt_date <= dt_end:\n",
    "    dates.append(str(dt_date))\n",
    "    #print(dt_date)\n",
    "    dt_date = dt_date+dt.timedelta(1) \n",
    "print(dates)\n",
    "print('-'*100)\n",
    "\n",
    "# Stip off the year and save a list of %m-%d strings\n",
    "dates_trip=[]\n",
    "for trip_dates in dates:\n",
    "    #print(trip_dates.split('-')[1]+'-'+trip_dates.split('-')[2])\n",
    "    dates_trip.append(trip_dates.split('-')[1]+'-'+trip_dates.split('-')[2])\n",
    "\n",
    "# Loop through the list of %m-%d strings and calculate the normals for each date\n",
    "normals=[]\n",
    "for n_trip_dates in dates_trip:\n",
    "    #print(daily_normals(n_trip_dates))\n",
    "    normals.append(daily_normals(n_trip_dates))\n",
    "normals"
   ]
  },
  {
   "cell_type": "code",
   "execution_count": 125,
   "metadata": {},
   "outputs": [
    {
     "data": {
      "text/html": [
       "<div>\n",
       "<style scoped>\n",
       "    .dataframe tbody tr th:only-of-type {\n",
       "        vertical-align: middle;\n",
       "    }\n",
       "\n",
       "    .dataframe tbody tr th {\n",
       "        vertical-align: top;\n",
       "    }\n",
       "\n",
       "    .dataframe thead th {\n",
       "        text-align: right;\n",
       "    }\n",
       "</style>\n",
       "<table border=\"1\" class=\"dataframe\">\n",
       "  <thead>\n",
       "    <tr style=\"text-align: right;\">\n",
       "      <th></th>\n",
       "      <th>tmin</th>\n",
       "      <th>tavg</th>\n",
       "      <th>tmax</th>\n",
       "    </tr>\n",
       "    <tr>\n",
       "      <th>date</th>\n",
       "      <th></th>\n",
       "      <th></th>\n",
       "      <th></th>\n",
       "    </tr>\n",
       "  </thead>\n",
       "  <tbody>\n",
       "    <tr>\n",
       "      <th>2020-07-01</th>\n",
       "      <td>67.0</td>\n",
       "      <td>74.777778</td>\n",
       "      <td>81.0</td>\n",
       "    </tr>\n",
       "    <tr>\n",
       "      <th>2020-07-02</th>\n",
       "      <td>68.0</td>\n",
       "      <td>75.403846</td>\n",
       "      <td>82.0</td>\n",
       "    </tr>\n",
       "    <tr>\n",
       "      <th>2020-07-03</th>\n",
       "      <td>68.0</td>\n",
       "      <td>75.320755</td>\n",
       "      <td>87.0</td>\n",
       "    </tr>\n",
       "    <tr>\n",
       "      <th>2020-07-04</th>\n",
       "      <td>70.0</td>\n",
       "      <td>76.571429</td>\n",
       "      <td>81.0</td>\n",
       "    </tr>\n",
       "    <tr>\n",
       "      <th>2020-07-05</th>\n",
       "      <td>66.0</td>\n",
       "      <td>75.000000</td>\n",
       "      <td>81.0</td>\n",
       "    </tr>\n",
       "    <tr>\n",
       "      <th>2020-07-06</th>\n",
       "      <td>69.0</td>\n",
       "      <td>75.000000</td>\n",
       "      <td>81.0</td>\n",
       "    </tr>\n",
       "  </tbody>\n",
       "</table>\n",
       "</div>"
      ],
      "text/plain": [
       "            tmin       tavg  tmax\n",
       "date                             \n",
       "2020-07-01  67.0  74.777778  81.0\n",
       "2020-07-02  68.0  75.403846  82.0\n",
       "2020-07-03  68.0  75.320755  87.0\n",
       "2020-07-04  70.0  76.571429  81.0\n",
       "2020-07-05  66.0  75.000000  81.0\n",
       "2020-07-06  69.0  75.000000  81.0"
      ]
     },
     "execution_count": 125,
     "metadata": {},
     "output_type": "execute_result"
    }
   ],
   "source": [
    "# Load the previous query results into a Pandas DataFrame and add the `trip_dates` range as the `date` inde\n",
    "str(normals[0])[2:6]\n",
    "float(str(normals[0])[8:12])\n",
    "float(str(normals[0])[-7:-2])\n",
    "tmin=[]\n",
    "tavg=[]\n",
    "tmax=[]\n",
    "for normal in normals:\n",
    "    #print(normal[0][0])\n",
    "    tmin.append(normal[0][0])\n",
    "    tavg.append(normal[0][1])\n",
    "    tmax.append(normal[0][2])\n",
    "tmin\n",
    "d_normals ={'date':dates,'tmin':tmin,'tavg':tavg,'tmax':tmax}\n",
    "df_normals = pd.DataFrame(data=d_normals)\n",
    "df_normals.set_index('date', inplace=True)\n",
    "df_normals"
   ]
  },
  {
   "cell_type": "code",
   "execution_count": 130,
   "metadata": {},
   "outputs": [
    {
     "data": {
      "text/plain": [
       "Text(0, 0.5, 'Temp (F)')"
      ]
     },
     "execution_count": 130,
     "metadata": {},
     "output_type": "execute_result"
    },
    {
     "data": {
      "image/png": "[encoded data removed]",
      "text/plain": [
       "<Figure size 432x288 with 1 Axes>"
      ]
     },
     "metadata": {},
     "output_type": "display_data"
    }
   ],
   "source": [
    "# Plot the daily normals as an area plot with `stacked=False`\n",
    "df_normals.plot.area(stacked=False)\n",
    "plt.xticks(rotation='vertical')\n",
    "plt.title(\"Daily Normals\")\n",
    "plt.ylabel(\"Temp (F)\")"
   ]
  },
  {
   "cell_type": "code",
   "execution_count": 174,
   "metadata": {},
   "outputs": [
    {
     "name": "stdout",
     "output_type": "stream",
     "text": [
      "The average temperature in june =[(74.94411764705882,)]\n",
      "The average temperature in december = [(71.04152933421226,)]\n",
      "The t-test results are: t-stat =  [31.35503692] p-value = [4.19352984e-187]\n",
      "The temperatures in December are significantly different than the temperatures in June\n"
     ]
    }
   ],
   "source": [
    "from scipy import stats\n",
    "sel = [func.avg(Measurement.tobs)]\n",
    "avg_dec=Climate_session.query(*sel).filter(func.strftime(\"%m\", Measurement.date) == \"12\").all()\n",
    "avg_june=Climate_session.query(*sel).filter(func.strftime(\"%m\", Measurement.date) == \"06\").all()\n",
    "\n",
    "print('The average temperature in june =' + str(avg_june))\n",
    "print('The average temperature in december =',avg_dec)\n",
    "list_june=Climate_session.query(Measurement.tobs).filter(func.strftime(\"%m\", Measurement.date) == \"06\").all()\n",
    "list_dec=Climate_session.query(Measurement.tobs).filter(func.strftime(\"%m\", Measurement.date) == \"12\").all()\n",
    "#performed a paired t-test, the temperatures are measure under different conditions and\n",
    "# variaces are not assumed the same\n",
    "stats_=stats.ttest_ind(list_june, list_dec, equal_var = False)\n",
    "\n",
    "print(\"The t-test results are: t-stat = \",stats_[0],\"p-value =\", stats_[1])\n",
    "print(\"The temperatures in December are significantly different than the temperatures in June\")"
   ]
  }
 ],
 "metadata": {
  "kernel_info": {
   "name": "python3"
  },
  "kernelspec": {
   "display_name": "pythondata",
   "language": "python",
   "name": "pythondata"
  },
  "language_info": {
   "codemirror_mode": {
    "name": "ipython",
    "version": 3
   },
   "file_extension": ".py",
   "mimetype": "text/x-python",
   "name": "python",
   "nbconvert_exporter": "python",
   "pygments_lexer": "ipython3",
   "version": "3.6.10"
  },
  "nteract": {
   "version": "0.12.3"
  },
  "varInspector": {
   "cols": {
    "lenName": 16,
    "lenType": 16,
    "lenVar": 40
   },
   "kernels_config": {
    "python": {
     "delete_cmd_postfix": "",
     "delete_cmd_prefix": "del ",
     "library": "var_list.py",
     "varRefreshCmd": "print(var_dic_list())"
    },
    "r": {
     "delete_cmd_postfix": ") ",
     "delete_cmd_prefix": "rm(",
     "library": "var_list.r",
     "varRefreshCmd": "cat(var_dic_list()) "
    }
   },
   "types_to_exclude": [
    "module",
    "function",
    "builtin_function_or_method",
    "instance",
    "_Feature"
   ],
   "window_display": false
  }
 },
 "nbformat": 4,
 "nbformat_minor": 4
}
